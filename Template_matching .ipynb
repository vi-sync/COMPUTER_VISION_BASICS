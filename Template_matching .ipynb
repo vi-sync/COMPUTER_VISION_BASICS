{
 "cells": [
  {
   "cell_type": "code",
   "execution_count": 17,
   "id": "5924f08c",
   "metadata": {},
   "outputs": [],
   "source": [
    "import cv2\n",
    "import sys\n",
    "import os\n",
    "import numpy as np"
   ]
  },
  {
   "cell_type": "code",
   "execution_count": 56,
   "id": "d3fc033c",
   "metadata": {},
   "outputs": [
    {
     "data": {
      "text/plain": [
       "13"
      ]
     },
     "execution_count": 56,
     "metadata": {},
     "output_type": "execute_result"
    }
   ],
   "source": [
    "img = cv2.imread(\"001 cv2 codes\\\\images\\\\WaldoBeach.jpg\")   #Comp image\n",
    "cv2.imshow('BEACH IMAGE',img)\n",
    "#cv2.waitKey()\n",
    "\n",
    "template_img = cv2.imread(\"001 cv2 codes\\\\images\\\\Waldo.jpg\")   #temp to be matched/searched\n",
    "cv2.imshow(' WALDO Template img',template_img)\n",
    "cv2.waitKey(0)"
   ]
  },
  {
   "cell_type": "code",
   "execution_count": 57,
   "id": "ecbc601a",
   "metadata": {},
   "outputs": [],
   "source": [
    "#matching\n",
    "result = cv2.matchTemplate(img,template_img,cv2.TM_CCOEFF)      #matching or conv temp over image\n",
    "minVal, maxVal, minLoc, maxLoc = cv2.minMaxLoc(result)          #maxLoc (484, 262) co od of macthing\n",
    "top_half    = maxLoc                                            #top line of rect\n",
    "bottom_half = (maxLoc[0]+50, maxLoc[1]+50)                      #bottom line\n",
    "\n",
    "rect_img = cv2.rectangle(img,top_half,bottom_half,(255,0,0), 2)"
   ]
  },
  {
   "cell_type": "code",
   "execution_count": 58,
   "id": "db02a5a8",
   "metadata": {},
   "outputs": [],
   "source": [
    "cv2.imshow(\"Found WALDO\",rect_img)"
   ]
  },
  {
   "cell_type": "code",
   "execution_count": 51,
   "id": "66e85142",
   "metadata": {},
   "outputs": [],
   "source": [
    "cv2.destroyAllWindows()"
   ]
  },
  {
   "cell_type": "code",
   "execution_count": 52,
   "id": "980299c4",
   "metadata": {},
   "outputs": [
    {
     "data": {
      "text/plain": [
       "True"
      ]
     },
     "execution_count": 52,
     "metadata": {},
     "output_type": "execute_result"
    }
   ],
   "source": [
    "cv2.imwrite('WALDO FOUND.jpg',rect_img)"
   ]
  }
 ],
 "metadata": {
  "kernelspec": {
   "display_name": "Python 3",
   "language": "python",
   "name": "python3"
  },
  "language_info": {
   "codemirror_mode": {
    "name": "ipython",
    "version": 3
   },
   "file_extension": ".py",
   "mimetype": "text/x-python",
   "name": "python",
   "nbconvert_exporter": "python",
   "pygments_lexer": "ipython3",
   "version": "3.6.5"
  }
 },
 "nbformat": 4,
 "nbformat_minor": 5
}
