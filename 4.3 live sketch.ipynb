{
 "cells": [
  {
   "cell_type": "code",
   "execution_count": 56,
   "id": "d90c24eb",
   "metadata": {},
   "outputs": [],
   "source": [
    "import cv2"
   ]
  },
  {
   "cell_type": "code",
   "execution_count": 73,
   "id": "30c60639",
   "metadata": {},
   "outputs": [],
   "source": [
    "def sketch(img):\n",
    "    img = cv2.cvtColor(img,cv2.COLOR_BGR2GRAY)    #to grey\n",
    "    img = cv2.GaussianBlur(img,ksize = (3,3),sigmaX = 2)  #for blurring \n",
    "    img = cv2.Canny(img,10,40)                            #for edges\n",
    "    ret,img = cv2.threshold(img,30,255,cv2.THRESH_BINARY_INV) # thresholding if pixel val > TH 0 otherwise 255\n",
    "    # THRESH_BINARY--->BLACK IMG\n",
    "    return img"
   ]
  },
  {
   "cell_type": "code",
   "execution_count": 74,
   "id": "29c51d48",
   "metadata": {},
   "outputs": [],
   "source": [
    "vid = cv2.VideoCapture(0)\n",
    "while True:\n",
    "   \n",
    "    res , frame = vid.read()\n",
    "    cv2.imshow('frmae',sketch(frame))\n",
    "    if cv2.waitKey(1)==13:\n",
    "        break\n",
    "vid.release()\n",
    "cv2.destroyAllWindows()"
   ]
  },
  {
   "cell_type": "code",
   "execution_count": null,
   "id": "9f855dd4",
   "metadata": {},
   "outputs": [],
   "source": []
  }
 ],
 "metadata": {
  "kernelspec": {
   "display_name": "Python 3",
   "language": "python",
   "name": "python3"
  },
  "language_info": {
   "codemirror_mode": {
    "name": "ipython",
    "version": 3
   },
   "file_extension": ".py",
   "mimetype": "text/x-python",
   "name": "python",
   "nbconvert_exporter": "python",
   "pygments_lexer": "ipython3",
   "version": "3.6.5"
  }
 },
 "nbformat": 4,
 "nbformat_minor": 5
}
